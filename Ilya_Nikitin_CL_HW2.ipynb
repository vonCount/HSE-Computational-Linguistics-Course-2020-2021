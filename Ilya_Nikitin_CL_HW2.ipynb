{
  "nbformat": 4,
  "nbformat_minor": 0,
  "metadata": {
    "kernelspec": {
      "display_name": "Python 3",
      "language": "python",
      "name": "python3"
    },
    "language_info": {
      "codemirror_mode": {
        "name": "ipython",
        "version": 3
      },
      "file_extension": ".py",
      "mimetype": "text/x-python",
      "name": "python",
      "nbconvert_exporter": "python",
      "pygments_lexer": "ipython3",
      "version": "3.6.5"
    },
    "colab": {
      "name": "Ilya's CL HW2.ipynb",
      "provenance": [],
      "collapsed_sections": []
    }
  },
  "cells": [
    {
      "cell_type": "markdown",
      "metadata": {
        "id": "YDo6G7d8RP1z"
      },
      "source": [
        "## Устанавливаем библиотеки и загружаем данные"
      ]
    },
    {
      "cell_type": "code",
      "metadata": {
        "colab": {
          "base_uri": "https://localhost:8080/"
        },
        "id": "O-trk2EyiK0w",
        "outputId": "36b8b6ad-59bb-42f9-980f-93455fae3df9"
      },
      "source": [
        "!pip install razdel\n",
        "import gensim\n",
        "import numpy as np\n",
        "from nltk.tokenize import sent_tokenize\n",
        "from string import punctuation\n",
        "from razdel import sentenize\n",
        "from razdel import tokenize as razdel_tokenize\n",
        "from collections import Counter\n",
        "import nltk\n",
        "nltk.download('punkt')\n",
        "\n",
        "!wget https://raw.githubusercontent.com/mannefedov/compling_nlp_hse_course/master/data/2ch_corpus.txt.zip  -O dvach_corpus.txt.zip\n",
        "!wget https://raw.githubusercontent.com/mannefedov/compling_nlp_hse_course/master/data/lenta.txt.zip -O lenta.txt.zip\n",
        "\n",
        "!unzip dvach_corpus.txt.zip\n",
        "!unzip lenta.txt.zip\n",
        "\n",
        "lenta = 'lenta.txt'\n",
        "dvach = '2ch_corpus.txt'\n",
        "with open(lenta, 'r', encoding='utf-8') as f:\n",
        "    lenta = f.read()\n",
        "\n",
        "with open(dvach, 'r', encoding='utf-8') as f:\n",
        "    dvach = f.read()\n",
        "\n",
        "lenta = lenta[:50000]\n",
        "dvach = dvach[:50000]"
      ],
      "execution_count": 1,
      "outputs": [
        {
          "output_type": "stream",
          "text": [
            "Collecting razdel\n",
            "  Downloading https://files.pythonhosted.org/packages/15/2c/664223a3924aa6e70479f7d37220b3a658765b9cfe760b4af7ffdc50d38f/razdel-0.5.0-py3-none-any.whl\n",
            "Installing collected packages: razdel\n",
            "Successfully installed razdel-0.5.0\n",
            "[nltk_data] Downloading package punkt to /root/nltk_data...\n",
            "[nltk_data]   Unzipping tokenizers/punkt.zip.\n",
            "--2021-06-23 23:07:40--  https://raw.githubusercontent.com/mannefedov/compling_nlp_hse_course/master/data/2ch_corpus.txt.zip\n",
            "Resolving raw.githubusercontent.com (raw.githubusercontent.com)... 185.199.108.133, 185.199.109.133, 185.199.110.133, ...\n",
            "Connecting to raw.githubusercontent.com (raw.githubusercontent.com)|185.199.108.133|:443... connected.\n",
            "HTTP request sent, awaiting response... 200 OK\n",
            "Length: 6255552 (6.0M) [application/zip]\n",
            "Saving to: ‘dvach_corpus.txt.zip’\n",
            "\n",
            "dvach_corpus.txt.zi 100%[===================>]   5.96M  --.-KB/s    in 0.06s   \n",
            "\n",
            "2021-06-23 23:07:40 (101 MB/s) - ‘dvach_corpus.txt.zip’ saved [6255552/6255552]\n",
            "\n",
            "--2021-06-23 23:07:40--  https://raw.githubusercontent.com/mannefedov/compling_nlp_hse_course/master/data/lenta.txt.zip\n",
            "Resolving raw.githubusercontent.com (raw.githubusercontent.com)... 185.199.108.133, 185.199.109.133, 185.199.110.133, ...\n",
            "Connecting to raw.githubusercontent.com (raw.githubusercontent.com)|185.199.108.133|:443... connected.\n",
            "HTTP request sent, awaiting response... 200 OK\n",
            "Length: 5723675 (5.5M) [application/zip]\n",
            "Saving to: ‘lenta.txt.zip’\n",
            "\n",
            "lenta.txt.zip       100%[===================>]   5.46M  --.-KB/s    in 0.07s   \n",
            "\n",
            "2021-06-23 23:07:40 (78.4 MB/s) - ‘lenta.txt.zip’ saved [5723675/5723675]\n",
            "\n",
            "Archive:  dvach_corpus.txt.zip\n",
            "  inflating: 2ch_corpus.txt          \n",
            "  inflating: __MACOSX/._2ch_corpus.txt  \n",
            "Archive:  lenta.txt.zip\n",
            "  inflating: lenta.txt               \n",
            "  inflating: __MACOSX/._lenta.txt    \n"
          ],
          "name": "stdout"
        }
      ]
    },
    {
      "cell_type": "markdown",
      "metadata": {
        "id": "yj3pOjI3iLYg"
      },
      "source": [
        "# Задание 1"
      ]
    },
    {
      "cell_type": "code",
      "metadata": {
        "id": "6PlFW1HJjyMY"
      },
      "source": [
        "def normalize(text):\n",
        "    normalized_text = [word.text.strip(punctuation) for word in razdel_tokenize(text)]\n",
        "    normalized_text = [word.lower() for word in normalized_text if word and len(word) < 20 ]\n",
        "    return normalized_text\n",
        "\n",
        "def ngrammer(tokens, n=3):\n",
        "    ngrams = []\n",
        "    for i in range(0,len(tokens)-n+1):\n",
        "        ngrams.append(' '.join(tokens[i:i+n]))\n",
        "    return ngrams\n",
        "\n",
        "def create_ngrams(sentences):\n",
        "    unigrams, bigrams, trigrams = Counter(), Counter(), Counter()\n",
        "    for sentence in sentences:\n",
        "        unigrams.update(sentence)\n",
        "        bigrams.update(ngrammer(sentence, n=2))\n",
        "        trigrams.update(ngrammer(sentence, n=3))\n",
        "    return unigrams, bigrams, trigrams"
      ],
      "execution_count": 2,
      "outputs": []
    },
    {
      "cell_type": "code",
      "metadata": {
        "id": "oBVUd58fj15h"
      },
      "source": [
        "sentences_dvach = [ ['<start>'] + ['<start>'] + normalize(text) + ['<end>'] for text in sent_tokenize(dvach)]\n",
        "sentences_news = [ ['<start>'] + ['<start>'] + normalize(text) + ['<end>'] for text in sent_tokenize(lenta)]\n",
        "\n",
        "unigrams_dvach, bigrams_dvach, trigrams_dvach = create_ngrams(sentences_dvach)\n",
        "unigrams_news, bigrams_news, trigrams_news = create_ngrams(sentences_news)"
      ],
      "execution_count": 3,
      "outputs": []
    },
    {
      "cell_type": "code",
      "metadata": {
        "id": "uVt4QXIHj4N9"
      },
      "source": [
        "def create_matrix(unigrams, bigrams, trigrams):\n",
        "    matrix_trigrams = np.zeros((len(bigrams), len(unigrams)))\n",
        "    matrix_bigrams = np.zeros((len(unigrams), len(unigrams)))\n",
        "    id2bigram = list(bigrams)\n",
        "    bigram2id  =  {bigram:i for i, bigram in enumerate(id2bigram)}\n",
        "    id2word = list(unigrams)\n",
        "    word2id = {word:i for i, word in enumerate(id2word)}\n",
        "    for ngram in trigrams:\n",
        "        ngram_ = ngram.split(' ')\n",
        "        bigram, unigram = ' '.join(ngram_[:-1]), ngram_[-1]\n",
        "        matrix_trigrams[bigram2id[bigram]][word2id[unigram]] =  (trigrams[ngram] / bigrams[bigram])\n",
        "    for ngram in bigrams:\n",
        "        word1, word2 = ngram.split(' ')\n",
        "        matrix_bigrams[word2id[word1]][word2id[word2]] =  (bigrams[ngram] / unigrams[word1])\n",
        "    return matrix_trigrams, matrix_bigrams, id2bigram, bigram2id, id2word, word2id"
      ],
      "execution_count": 4,
      "outputs": []
    },
    {
      "cell_type": "code",
      "metadata": {
        "id": "Z9R6Qj2Xj7SR"
      },
      "source": [
        "matrix_trigrams_dvach, matrix_bigrams_dvach, id2bigram_dvach, bigram2id_dvach, id2word_dvach, word2id_dvach = create_matrix(unigrams_dvach, bigrams_dvach, trigrams_dvach)\n",
        "\n",
        "matrix_trigrams_news, matrix_bigrams_news, id2bigram_news, bigram2id_news, id2word_news, word2id_news = create_matrix(unigrams_news, bigrams_news, trigrams_news)"
      ],
      "execution_count": 5,
      "outputs": []
    },
    {
      "cell_type": "code",
      "metadata": {
        "id": "BTe9hdncTECc"
      },
      "source": [
        "def bigrams_generator(matrix, id2word, word2id, n=100, start='<start>'):\n",
        "    text = []\n",
        "    current_idx = word2id[start]\n",
        "    for i in range(n):\n",
        "        chosen = np.random.choice(matrix.shape[1], p=matrix[current_idx])\n",
        "        text.append(id2word[chosen])\n",
        "        if id2word[chosen] == '<end>':\n",
        "            chosen = word2id[start]\n",
        "        current_idx = chosen\n",
        "    return ' '.join(text)\n",
        "\n",
        "def trigrams_generator(matrix, id2word, ngram2id, id2ngram, n=100, start='<start> <start>'):\n",
        "    text = []\n",
        "    current_idx = ngram2id[start]\n",
        "    for i in range(n):\n",
        "        chosen = np.random.choice(matrix.shape[1], p=matrix[current_idx])\n",
        "        text.append(id2word[chosen])\n",
        "        if id2word[chosen] == '<end>':\n",
        "            token = start\n",
        "        else:\n",
        "            token = id2ngram[current_idx].split()[-1] + \" \" + id2word[chosen]\n",
        "        current_idx = ngram2id[token]\n",
        "    return ' '.join(text)"
      ],
      "execution_count": 6,
      "outputs": []
    },
    {
      "cell_type": "code",
      "metadata": {
        "id": "9XotI9PIkEZL"
      },
      "source": [
        "def comparison(matrix_bigrams, matrix_trigrams, id2word, word2id, bigram2id, id2bigram, n=100):\n",
        "    print('Bigram-based Texts')\n",
        "    print(bigrams_generator(matrix=matrix_bigrams, id2word=id2word, word2id=word2id).replace('<end>', '\\n'))\n",
        "    print()\n",
        "    print('Trigram-based Texts')\n",
        "    print(trigrams_generator(matrix=matrix_trigrams, id2word=id2word, ngram2id=bigram2id, id2ngram=id2bigram).replace('<end>', '\\n'))"
      ],
      "execution_count": 7,
      "outputs": []
    },
    {
      "cell_type": "code",
      "metadata": {
        "colab": {
          "base_uri": "https://localhost:8080/"
        },
        "id": "rd2EtJ9OVTNx",
        "outputId": "7d5ddebd-6163-48b5-9794-6348c24ec9d3"
      },
      "source": [
        "# Генерируем Двач\n",
        "comparison(matrix_bigrams_dvach, matrix_trigrams_dvach, id2word_dvach, word2id_dvach, bigram2id_dvach, id2bigram_dvach)"
      ],
      "execution_count": 8,
      "outputs": [
        {
          "output_type": "stream",
          "text": [
            "Bigram-based Texts\n",
            "у меня тут прилагательное и если не слышал \n",
            " мне тоже но не нужны совсем зелёный и только выйдет еще очень заметно \n",
            " <start> scala kotlin swift go и зашоренность приводит \n",
            " <start> соус ремикса с другой сами deen остальное ml семейство энергичное energetic evaluation чёт не юно \n",
            " просто тянок было лишь исключением что надо указывать качество q a параметр vbr вместо битрейта b a работает только 35 slowfix суть в чем переучить какого-нибудь джявадауна с гитхаба никто \n",
            " диванный кукаретик сбежал роняя кал чтд то шарпер ide а там не слышал или на осунувшееся лицо товарища стало серии\n",
            "\n",
            "Trigram-based Texts\n",
            "и гугл сделает из двух лямов индусов лучших девелоперов чем mit пок-пок не выёбуйся жри говно большой ложкой пока не придёт разнарядка от директора аутсорс-галеры остальная меньшая часть начинает бездумно сверкать новым базвордом в бложиках и пихать модное говно куда попало \n",
            " говоришь так будто бы это не так \n",
            " даже если согласится что это толстый тралленг пожалуйста \n",
            " лол блядь я уже забыл \n",
            " ох лил одно из моих первых аниме \n",
            " а надо как тут в том что та пикча сильно сужает общую картину отсекая как актуальные технологии для реальной практики так и вижу как программеры из гуглофейсбуков\n"
          ],
          "name": "stdout"
        }
      ]
    },
    {
      "cell_type": "code",
      "metadata": {
        "colab": {
          "base_uri": "https://localhost:8080/"
        },
        "id": "jqPGqTRxVVzq",
        "outputId": "5227a7b8-f8e4-415c-cd27-dee835cca8f2"
      },
      "source": [
        "# Генерируем Новости\n",
        "comparison(matrix_bigrams_news, matrix_trigrams_news, id2word_news, word2id_news, bigram2id_news, id2bigram_news)"
      ],
      "execution_count": 10,
      "outputs": [
        {
          "output_type": "stream",
          "text": [
            "Bigram-based Texts\n",
            "<start> в три человека 27 было заключено 2011 сделок на сумму в зону евро учитывая адаптацию российских банков в хатах \n",
            " <start> <start> <start> <start> <start> <start> не использовать для участия в литве этот срок от доргели в день церемония вступления в кресле \n",
            " <start> он в тяжелом состоянии \n",
            " <start> <start> <start> россия \n",
            " <start> <start> сегодняшнее сообщение о разморозке кредита показывает что этот аудит не сообщил сегодня во время там на минувшей ночью была выведена из толпы раздались крики и лекарства радиоактивные материалы объекты флоры и второго пришествия христа \n",
            " подразделения министр обороны заявило во фронт \n",
            " <start>\n",
            "\n",
            "Trigram-based Texts\n",
            "представитель посольства сша в китайском городе ченду \n",
            " иллюстрированный журнал « искры » № 37 сентябрь 1914 daily mirror рассказывает случай который порадует всех друзей животных \n",
            " попытка германской пехоты пробиться ближе к концу сентября а не в середине сентября этот срок более реален с организационной точки зрения \n",
            " в свою очередь разозленные китайцы штурмовали американское представительство в пекине и тоже нанесли ему значительный ущерб \n",
            " журнал « нива » № 37 сентябрь 1914 daily mirror рассказывает случай который порадует всех друзей животных \n",
            " это демократический блок 26 августа зарегистрировались коммунисты трудящиеся россии за советский союз \n",
            " бои у сопоцкина\n"
          ],
          "name": "stdout"
        }
      ]
    },
    {
      "cell_type": "markdown",
      "metadata": {
        "id": "hqUC1lQBjdGY"
      },
      "source": [
        "# Задание 2"
      ]
    },
    {
      "cell_type": "code",
      "metadata": {
        "id": "zwPSAPsvYSFh"
      },
      "source": [
        "with open('lenta.txt', 'r', encoding='utf-8') as f:\n",
        "    lenta = f.read()\n",
        "\n",
        "with open('2ch_corpus.txt', 'r', encoding='utf-8') as f:\n",
        "    dvach = f.read()\n",
        "    \n",
        "sentences_dvach = [normalize(text)for text in sent_tokenize(dvach)]\n",
        "sentences_news = [normalize(text)for text in sent_tokenize(lenta)]"
      ],
      "execution_count": 11,
      "outputs": []
    },
    {
      "cell_type": "code",
      "metadata": {
        "id": "0fbNofPJjezg"
      },
      "source": [
        "def pmi_score(worda_count, wordb_count, bigram_count, len_vocab, min_count, corpus_word_count):\n",
        "    if bigram_count >= min_count:\n",
        "        try:\n",
        "            prob_a = worda_count / corpus_word_count\n",
        "            prob_b = wordb_count / corpus_word_count\n",
        "            prob_ab = bigram_count / corpus_word_count\n",
        "            pmi = np.log(prob_ab / (prob_a * prob_b))\n",
        "        except ZeroDivisionError:\n",
        "            pmi = float('-inf') \n",
        "    else:\n",
        "        pmi = float('-inf') \n",
        "    return pmi"
      ],
      "execution_count": 12,
      "outputs": []
    },
    {
      "cell_type": "code",
      "metadata": {
        "colab": {
          "base_uri": "https://localhost:8080/"
        },
        "id": "jhPxiWdQkq7b",
        "outputId": "8968d8d2-dd6c-4468-84f0-f957e7e73b1a"
      },
      "source": [
        "ph_default = gensim.models.Phrases(sentences_dvach, threshold=0.0001)\n",
        "p_default = gensim.models.phrases.Phraser(ph_default)\n",
        "\n",
        "ph2_default = gensim.models.Phrases(p_default[sentences_dvach])\n",
        "p2_default = gensim.models.phrases.Phraser(ph2_default)\n",
        "for i in range(10):\n",
        "    print(p2_default[p_default[sentences_dvach[i]]])"
      ],
      "execution_count": 13,
      "outputs": [
        {
          "output_type": "stream",
          "text": [
            "['анимублядский_webm-треддля_приличных_анимублядей', 'и_прочих_аутистов']\n",
            "['безграмотное_быдло_с_дубляжом', 'войсовером_порнографией_и_котиками', 'советы_мерзких_мокрописечников_вниманиебляди', 'всех_видов_и_прочее', 'непотребство_отправляется_в_порнотред', 'ссылка', 'для_поиска_с_o', 'уса_видео_сохраняем_кадр', 'правый_клик_по_видео', 'и_ищем_его_на', 'для_воспроизведения_webm_с', '10-битным_цветом_нужно_установить', 'плагин_vlc_и_отключить', 'встроенный_в_браузер_плеер', 'media']\n",
            "['webm']\n",
            "['enabled_false_в_firefox', 'о_кодировании_webm_доступные', 'кодеки_—_vp_8', 'и_vp_9_для', 'видео_vorbis_и_opus', 'для_звука_максимальный_размер', 'файла_—', '10240', 'кб_всех_файлов_в', 'посте_—', 'около_40', 'мб']\n",
            "['делать_webm_можно_научиться', 'в_вики_треда_там', 'находится_подробная_информация_о', 'выборе_и_настройке_кодеков', 'на_примерах_использования_консольных', 'утилит_ffmpeg_vpxenc_и', 'mkvmerge']\n",
            "['неочевидные_моменты—_libvorbis_при', 'указании_битрейта_b_a', 'работает_в_режиме_cbr', 'постоянный_битрейт_и_это', 'портит_качество_звука_для', 'режима_vbr_вместо_битрейта', 'надо_указывать_качество_q', 'a_параметр_vbr_on', 'работает_только_для_opus', 'а_—_в_webm', 'ки_не_нужно_включать', 'софтсаб_в_формате_webvtt', 'ffmpeg_это_делает_по', 'умолчанию_при_наличии_сабов', 'в_контейнере_отключается_параметром', 'sn_во-первых_это_бесполезно', 'для_его_отображения_на', 'странице_должен_быть_специальный', 'код_а_во-вторых_от', 'этого_ролики_не_воспроизводятся', 'в_firefox']\n",
            "['программы_и_их_документация', 'фронтенды_к_ffmpeg_для', 'кодирования_вебмок_cli_бидон', 'zsh_дотнет_дотнет_оп-паста', 'посоны', 'поделитесь', 'ссылкой_на', 'ютуб-версию', 'этого', 'шебм']\n",
            "['побольше', 'тебе', 'стандопавера', 'бро']\n",
            "['перекатился']\n",
            "['благословил']\n"
          ],
          "name": "stdout"
        }
      ]
    },
    {
      "cell_type": "code",
      "metadata": {
        "colab": {
          "base_uri": "https://localhost:8080/"
        },
        "id": "Susd8R6OkuLV",
        "outputId": "cc31bc57-4ba8-4992-d13b-dd07d38e5a6b"
      },
      "source": [
        "ph_custom = gensim.models.Phrases(sentences_dvach, scoring=pmi_score, threshold=0.0001)\n",
        "p_custom = gensim.models.phrases.Phraser(ph_custom)\n",
        "\n",
        "ph2_custom = gensim.models.Phrases(p_custom[sentences_dvach], scoring=pmi_score)\n",
        "p2_custom = gensim.models.phrases.Phraser(ph2_custom)\n",
        "for i in range(10):\n",
        "    print(p2_custom[p_custom[sentences_dvach[i]]])"
      ],
      "execution_count": 14,
      "outputs": [
        {
          "output_type": "stream",
          "text": [
            "['анимублядский_webm-треддля_приличных_анимублядей', 'и_прочих', 'аутистов']\n",
            "['безграмотное_быдло_с_дубляжом', 'войсовером_порнографией_и_котиками', 'советы_мерзких_мокрописечников_вниманиебляди', 'всех_видов', 'и_прочее', 'непотребство_отправляется_в_порнотред', 'ссылка', 'для_поиска_с_o', 'уса_видео_сохраняем_кадр', 'правый_клик_по_видео', 'и_ищем', 'его_на', 'для_воспроизведения_webm_с', '10-битным_цветом_нужно_установить', 'плагин_vlc_и_отключить', 'встроенный_в_браузер_плеер', 'media']\n",
            "['webm']\n",
            "['enabled_false_в_firefox', 'о_кодировании_webm_доступные', 'кодеки_—_vp_8', 'и_vp_9_для', 'видео_vorbis_и_opus', 'для_звука_максимальный_размер', 'файла_—', '10240', 'кб_всех_файлов_в', 'посте_—', 'около_40', 'мб']\n",
            "['делать_webm_можно_научиться', 'в_вики_треда_там', 'находится_подробная_информация_о', 'выборе_и_настройке_кодеков', 'на_примерах_использования_консольных', 'утилит_ffmpeg_vpxenc_и', 'mkvmerge']\n",
            "['неочевидные_моменты—_libvorbis_при', 'указании_битрейта_b_a', 'работает_в_режиме_cbr', 'постоянный_битрейт', 'и', 'это_портит_качество_звука', 'для_режима_vbr_вместо', 'битрейта_надо_указывать_качество', 'q_a_параметр_vbr', 'on_работает', 'только_для', 'opus_а', '—', 'в_webm_ки_не', 'нужно_включать_софтсаб_в', 'формате_webvtt_ffmpeg_это', 'делает_по_умолчанию_при', 'наличии_сабов_в_контейнере', 'отключается_параметром_sn_во-первых', 'это_бесполезно_для_его', 'отображения_на_странице_должен', 'быть_специальный_код_а', 'во-вторых_от_этого_ролики', 'не_воспроизводятся_в_firefox']\n",
            "['программы_и_их_документация', 'фронтенды_к_ffmpeg_для', 'кодирования_вебмок_cli_бидон', 'zsh_дотнет_дотнет_оп-паста', 'посоны', 'поделитесь', 'ссылкой_на', 'ютуб-версию', 'этого', 'шебм']\n",
            "['побольше', 'тебе', 'стандопавера', 'бро']\n",
            "['перекатился']\n",
            "['благословил']\n"
          ],
          "name": "stdout"
        }
      ]
    },
    {
      "cell_type": "code",
      "metadata": {
        "colab": {
          "base_uri": "https://localhost:8080/"
        },
        "id": "SWoiN-r4kwvs",
        "outputId": "811250f7-ae28-455a-9bec-d7b55b1ebb32"
      },
      "source": [
        "ph_default = gensim.models.Phrases(sentences_dvach, threshold=13)\n",
        "p_default = gensim.models.phrases.Phraser(ph_default)\n",
        "\n",
        "ph2_default = gensim.models.Phrases(p_default[sentences_dvach])\n",
        "p2_default = gensim.models.phrases.Phraser(ph2_default)\n",
        "for i in range(10):\n",
        "    print(p2_default[p_default[sentences_dvach[i]]])"
      ],
      "execution_count": 15,
      "outputs": [
        {
          "output_type": "stream",
          "text": [
            "['анимублядский_webm-треддля_приличных_анимублядей', 'и_прочих_аутистов']\n",
            "['безграмотное_быдло_с_дубляжом', 'войсовером_порнографией', 'и', 'котиками_советы_мерзких_мокрописечников', 'вниманиебляди_всех_видов', 'и_прочее_непотребство_отправляется', 'в_порнотред', 'ссылка', 'для_поиска_с', 'o_уса_видео_сохраняем', 'кадр_правый_клик_по', 'видео', 'и', 'ищем_его_на', 'для_воспроизведения_webm', 'с_10-битным_цветом_нужно', 'установить_плагин_vlc', 'и', 'отключить_встроенный', 'в', 'браузер_плеер_media']\n",
            "['webm']\n",
            "['enabled_false_в_firefox', 'о_кодировании_webm_доступные', 'кодеки_—_vp_8', 'и', 'vp_9_для', 'видео_vorbis', 'и', 'opus_для_звука_максимальный', 'размер_файла_—', '10240', 'кб_всех_файлов', 'в', 'посте', '—_около', '40_мб']\n",
            "['делать_webm', 'можно_научиться', 'в', 'вики_треда_там', 'находится_подробная_информация_о', 'выборе', 'и', 'настройке_кодеков_на', 'примерах_использования_консольных_утилит', 'ffmpeg_vpxenc', 'и', 'mkvmerge']\n",
            "['неочевидные_моменты—_libvorbis_при', 'указании_битрейта_b_a', 'работает', 'в', 'режиме_cbr_постоянный_битрейт', 'и', 'это_портит_качество', 'звука_для_режима', 'vbr_вместо_битрейта_надо', 'указывать_качество_q_a', 'параметр_vbr_on_работает', 'только_для_opus', 'а', '—', 'в', 'webm_ки', 'не', 'нужно_включать_софтсаб', 'в', 'формате_webvtt_ffmpeg', 'это', 'делает_по_умолчанию', 'при_наличии_сабов', 'в', 'контейнере_отключается_параметром_sn', 'во-первых', 'это', 'бесполезно_для', 'его_отображения_на', 'странице_должен_быть_специальный', 'код', 'а', 'во-вторых_от_этого', 'ролики', 'не', 'воспроизводятся_в_firefox']\n",
            "['программы', 'и', 'их_документация_фронтенды_к', 'ffmpeg_для_кодирования_вебмок', 'cli_бидон_zsh_дотнет', 'дотнет_оп-паста', 'посоны', 'поделитесь', 'ссылкой_на', 'ютуб-версию', 'этого', 'шебм']\n",
            "['побольше', 'тебе', 'стандопавера', 'бро']\n",
            "['перекатился']\n",
            "['благословил']\n"
          ],
          "name": "stdout"
        }
      ]
    },
    {
      "cell_type": "code",
      "metadata": {
        "colab": {
          "base_uri": "https://localhost:8080/"
        },
        "id": "3Na_jjARkzDl",
        "outputId": "677ee520-2495-4249-d855-40e7f79222d2"
      },
      "source": [
        "ph_custom = gensim.models.Phrases(sentences_dvach, scoring=pmi_score, threshold=13)\n",
        "p_custom = gensim.models.phrases.Phraser(ph_custom)\n",
        "\n",
        "ph2_custom = gensim.models.Phrases(p_custom[sentences_dvach], scoring=pmi_score)\n",
        "p2_custom = gensim.models.phrases.Phraser(ph2_custom)\n",
        "for i in range(10):\n",
        "    print(p2_custom[p_custom[sentences_dvach[i]]])"
      ],
      "execution_count": 16,
      "outputs": [
        {
          "output_type": "stream",
          "text": [
            "['анимублядский_webm-треддля', 'приличных_анимублядей', 'и', 'прочих', 'аутистов']\n",
            "['безграмотное', 'быдло', 'с', 'дубляжом_войсовером', 'порнографией', 'и', 'котиками', 'советы', 'мерзких_мокрописечников', 'вниманиебляди', 'всех', 'видов', 'и', 'прочее', 'непотребство_отправляется', 'в', 'порнотред', 'ссылка', 'для', 'поиска', 'с', 'o', 'уса', 'видео', 'сохраняем_кадр', 'правый_клик', 'по', 'видео', 'и', 'ищем', 'его', 'на', 'для', 'воспроизведения', 'webm', 'с', '10-битным_цветом', 'нужно', 'установить', 'плагин_vlc', 'и', 'отключить_встроенный', 'в', 'браузер', 'плеер_media']\n",
            "['webm']\n",
            "['enabled_false', 'в', 'firefox', 'о', 'кодировании', 'webm', 'доступные_кодеки', '—', 'vp', '8', 'и', 'vp', '9', 'для', 'видео', 'vorbis', 'и', 'opus', 'для', 'звука', 'максимальный', 'размер', 'файла', '—', '10240', 'кб', 'всех', 'файлов', 'в', 'посте', '—', 'около', '40', 'мб']\n",
            "['делать', 'webm', 'можно', 'научиться', 'в', 'вики', 'треда', 'там', 'находится', 'подробная_информация', 'о', 'выборе', 'и', 'настройке_кодеков', 'на', 'примерах', 'использования_консольных', 'утилит_ffmpeg', 'vpxenc', 'и', 'mkvmerge']\n",
            "['неочевидные_моменты—', 'libvorbis', 'при', 'указании_битрейта', 'b', 'a', 'работает', 'в', 'режиме_cbr', 'постоянный_битрейт', 'и', 'это', 'портит', 'качество', 'звука', 'для', 'режима_vbr', 'вместо', 'битрейта', 'надо', 'указывать', 'качество', 'q', 'a', 'параметр_vbr', 'on', 'работает', 'только', 'для', 'opus', 'а', '—', 'в', 'webm', 'ки', 'не', 'нужно', 'включать_софтсаб', 'в', 'формате_webvtt', 'ffmpeg', 'это', 'делает', 'по', 'умолчанию', 'при', 'наличии_сабов', 'в', 'контейнере_отключается', 'параметром_sn', 'во-первых', 'это', 'бесполезно', 'для', 'его', 'отображения', 'на', 'странице', 'должен', 'быть', 'специальный', 'код', 'а', 'во-вторых', 'от', 'этого', 'ролики', 'не', 'воспроизводятся', 'в', 'firefox']\n",
            "['программы', 'и', 'их', 'документация_фронтенды', 'к', 'ffmpeg', 'для', 'кодирования_вебмок', 'cli_бидон', 'zsh_дотнет', 'дотнет_оп-паста', 'посоны', 'поделитесь', 'ссылкой', 'на', 'ютуб-версию', 'этого', 'шебм']\n",
            "['побольше', 'тебе', 'стандопавера', 'бро']\n",
            "['перекатился']\n",
            "['благословил']\n"
          ],
          "name": "stdout"
        }
      ]
    },
    {
      "cell_type": "markdown",
      "metadata": {
        "id": "ZZmoKOaCIjns"
      },
      "source": [
        "Works pretty similar."
      ]
    }
  ]
}
{
 "cells": [
  {
   "cell_type": "markdown",
   "metadata": {
    "id": "O0RA-PEnJQLc"
   },
   "source": [
    "Скачайте вот этот текст -  https://github.com/mannefedov/compling_nlp_hse_course/blob/master/data/zhivago.txt"
   ]
  },
  {
   "cell_type": "markdown",
   "metadata": {
    "id": "90Fz3D5rIprC"
   },
   "source": [
    "### Задание 1 (2 балла)\n",
    "Отчистите текст от мусора (тэгов, хешей и тп) с помощью регулярных выражений. Постарайтесь убрать весь мусор, но если что-то удалить не получается, то не мучайтесь. Главное, чтобы мусор не проявлялся в результатах следующих заданий."
   ]
  },
  {
   "cell_type": "code",
   "execution_count": 1,
   "metadata": {
    "colab": {
     "base_uri": "https://localhost:8080/",
     "height": 140
    },
    "id": "o4vSw3T3msMM",
    "outputId": "b50b7cb5-a568-48b8-80b6-fa9ca76439c7"
   },
   "outputs": [
    {
     "data": {
      "text/plain": [
       "'<author><first-name>Борис</first-name><middle-name>Леонидович</middle-name><last-name>Пастернак</last-name></author>\\n<book-title>Доктор Живаго</book-title>\\n<annotation><p>«Доктор Живаго» - итоговое произведение Бориса Пастернака, книга всей его жизни. Этот роман принес его автору мировую известность и Нобелевскую премию, присуждение которой обернулось для поэта оголтелой политической травлей, обвинениями в «измене Родине» и в результате стоило ему жизни.</p>\\n<p>«Доктор Живаго» - роман, сама ткань которого убедительнее свидетельствует о чуде, чем все размышления доктора и обобщения автора. Человек, который так пишет, бесконечно много пережил и передумал, и главные его чувства на свете  - восхищенное умиление и слезное сострадание; конечно, есть в его мире место и презрению, и холодному отстранению  - но не в них суть. Роман Пастернака  - оплакивание прежних заблуждений и их жертв; те, кто не разделяет молитвенного восторга перед миром, достойны прежде всего жалости. Перечитывать «Доктор'"
      ]
     },
     "execution_count": 1,
     "metadata": {},
     "output_type": "execute_result"
    }
   ],
   "source": [
    "#Скачайте вот этот текст - https://github.com/mannefedov/compling_nlp_hse_course/blob/master/data/zhivago.txt\n",
    "import requests\n",
    "url = 'https://raw.githubusercontent.com/mannefedov/compling_nlp_hse_course/master/data/zhivago.txt'\n",
    "text = requests.get(url).text\n",
    "text[:1000]"
   ]
  },
  {
   "cell_type": "code",
   "execution_count": 2,
   "metadata": {
    "colab": {
     "base_uri": "https://localhost:8080/",
     "height": 139
    },
    "id": "eqIWoYaspa83",
    "outputId": "7a1941a2-5eee-4146-e22b-caf7019db49a"
   },
   "outputs": [
    {
     "data": {
      "text/plain": [
       "' Борис Леонидович Пастернак Доктор Живаго «Доктор Живаго» - итоговое произведение Бориса Пастернака, книга всей его жизни. Этот роман принес его автору мировую известность и Нобелевскую премию, присуждение которой обернулось для поэта оголтелой политической травлей, обвинениями в «измене Родине» и в результате стоило ему жизни. «Доктор Живаго» - роман, сама ткань которого убедительнее свидетельствует о чуде, чем все размышления доктора и обобщения автора. Человек, который так пишет, бесконечно много пережил и передумал, и главные его чувства на свете - восхищенное умиление и слезное сострадание; конечно, есть в его мире место и презрению, и холодному отстранению - но не в них суть. Роман Пастернака - оплакивание прежних заблуждений и их жертв; те, кто не разделяет молитвенного восторга перед миром, достойны прежде всего жалости. Перечитывать «Доктора Живаго» стоит именно тогда, когда кажется, что жить не стоит. Тогда десять строк из этого романа могут сделать то же, что делает любовь в'"
      ]
     },
     "execution_count": 2,
     "metadata": {},
     "output_type": "execute_result"
    }
   ],
   "source": [
    "#Отчистите текст от мусора (тэгов, хешей и тп) с помощью регулярных выражений.\n",
    "import re\n",
    "text = re.sub(u'\\xa0', ' ', text)\n",
    "text = re.sub(r'<[^>]+>', ' ', text)\n",
    "text = re.sub(r'\\n', ' ', text)\n",
    "text = re.sub('  +', ' ', text)\n",
    "text[:1000]"
   ]
  },
  {
   "cell_type": "markdown",
   "metadata": {
    "id": "mwKdnFkFIrz-"
   },
   "source": [
    "### Задание 2. (2 балла) \n",
    "Приведите очищенный текст к нижнему регистру, удалите все знаки пунктуации, разделите на предложения библиотекой rusenttokenize, токенизируйте библиотекой razdel_tokenize. \n",
    "Ответьте на следующие вопросы:\n",
    "1) есть ли в тексте повторяющиеся корректные предложения? если да то какие? (если находится мусор то вернитесь к заданию 1 и постарайтесь избавиться от него)\n",
    "2) какой самый частотный токен в тексте длиннее 6 символов?\n"
   ]
  },
  {
   "cell_type": "code",
   "execution_count": 3,
   "metadata": {
    "colab": {
     "base_uri": "https://localhost:8080/"
    },
    "id": "jUhi1leBJqIs",
    "outputId": "1356c902-cbc8-40fa-e135-ddaf946afc1d"
   },
   "outputs": [
    {
     "name": "stdout",
     "output_type": "stream",
     "text": [
      "Requirement already satisfied: rusenttokenize in /opt/anaconda3/lib/python3.8/site-packages (0.0.5)\n",
      "Requirement already satisfied: razdel in /opt/anaconda3/lib/python3.8/site-packages (0.5.0)\n",
      "['борис', 'леонидович', 'пастернак', 'доктор', 'живаго', 'доктор', 'живаго', 'итоговое', 'произведение', 'бориса', 'пастернака', 'книга', 'всей', 'его', 'жизни']\n"
     ]
    }
   ],
   "source": [
    "!pip install rusenttokenize\n",
    "!pip install razdel\n",
    "from collections import Counter\n",
    "from string import punctuation\n",
    "from rusenttokenize import ru_sent_tokenize\n",
    "from razdel import tokenize as razdel_tokenize\n",
    "\n",
    "#Приведите очищенный текст к нижнему регистру\n",
    "text = text.lower()\n",
    "\n",
    "#Удалите все знаки пунктуации, токенизируйте библиотекой razdel_tokenize\n",
    "punctuation = f'{punctuation}«»–...'\n",
    "tokens = [token.text.strip(punctuation) for token in razdel_tokenize(text) \n",
    "          if token.text not in punctuation]\n",
    "tokens = [token for token in tokens if token]\n",
    "print(tokens[:15])"
   ]
  },
  {
   "cell_type": "code",
   "execution_count": 4,
   "metadata": {
    "colab": {
     "base_uri": "https://localhost:8080/"
    },
    "id": "ILz0WcWdJzxP",
    "outputId": "2d6fea53-c545-4343-de65-22e39ca8a349"
   },
   "outputs": [
    {
     "data": {
      "text/plain": [
       "[('свеча горела на столе, свеча горела.', 3),\n",
       " ('парило.', 2),\n",
       " ('странно.', 2),\n",
       " ('толпа росла.', 2),\n",
       " ('да.', 2),\n",
       " ('он открыл глаза.', 2)]"
      ]
     },
     "execution_count": 4,
     "metadata": {},
     "output_type": "execute_result"
    }
   ],
   "source": [
    "#Разделите на предложения библиотекой rusenttokenize\n",
    "sentences = ru_sent_tokenize(text)\n",
    "\n",
    "#Есть ли в тексте повторяющиеся корректные предложения? Если да, то какие?\n",
    "def sorted_dict(list):\n",
    "    counter = dict(Counter(list)).items()\n",
    "    result = sorted(counter, key=lambda x: x[1], reverse=True)\n",
    "    return result\n",
    "\n",
    "[sent for sent in sorted_dict(sentences) if sent[1] > 1]"
   ]
  },
  {
   "cell_type": "code",
   "execution_count": 5,
   "metadata": {
    "colab": {
     "base_uri": "https://localhost:8080/"
    },
    "id": "Tv-AtzHhd3PR",
    "outputId": "5606c4e7-2b50-482f-d0f2-5b6fec07983c"
   },
   "outputs": [
    {
     "data": {
      "text/plain": [
       "('андреевич', 289)"
      ]
     },
     "execution_count": 5,
     "metadata": {},
     "output_type": "execute_result"
    }
   ],
   "source": [
    "[word for word in sorted_dict(tokens) if len(word[0]) > 6][0]"
   ]
  },
  {
   "cell_type": "markdown",
   "metadata": {
    "id": "SVz8OVDCIuER"
   },
   "source": [
    "### Задание 3. (2 балла)\n",
    "\n",
    "Сделайте стемминг и найдите по несколько частотных примеров на каждый из видов ошибок:\n",
    "1) два разных слова ошибочно свелись к одинаковой основе\n",
    "3) слово не изменилось после стемминга (слово должно быть русским и длиннее 4 символов)\n",
    "\n",
    "***не делайте это задание полностью вручную, напишите правила, которые отловят потенциальные ошибки и выберите из них***\n"
   ]
  },
  {
   "cell_type": "code",
   "execution_count": 6,
   "metadata": {
    "id": "5rcF2vHVmtoX"
   },
   "outputs": [],
   "source": [
    "from nltk.stem.snowball import SnowballStemmer\n",
    "stemmer = SnowballStemmer('russian')\n",
    "words = [token.text for token in list(razdel_tokenize(text))]\n",
    "\n",
    "stems = {}\n",
    "stem_counter = Counter(words)\n",
    "\n",
    "for word in words:\n",
    "    stems[word] = (stem_counter[stemmer.stem(word)],stemmer.stem(word))\n",
    "\n",
    "stem_dict = {} \n",
    "for key, value in stems.items(): \n",
    "    if value not in stem_dict: \n",
    "        stem_dict[value] = [key]\n",
    "    else:\n",
    "        stem_dict[value].append(key) \n",
    "        \n",
    "stem_list = sorted(stem_dict.items(), reverse = True)"
   ]
  },
  {
   "cell_type": "code",
   "execution_count": 7,
   "metadata": {},
   "outputs": [
    {
     "data": {
      "text/plain": [
       "[((18653, ','), [',']),\n",
       " ((12860, '.'), ['.']),\n",
       " ((6475, 'и'), ['и']),\n",
       " ((4748, 'в'), ['в']),\n",
       " ((2933, 'не'), ['не', 'ней', 'нее', 'нею']),\n",
       " ((2663, 'на'), ['на']),\n",
       " ((2421, '–'), ['–']),\n",
       " ((1929, 'с'), ['с']),\n",
       " ((1577, 'он'), ['они', 'он', 'оно', 'она', 'оной']),\n",
       " ((1489, 'что'), ['что']),\n",
       " ((1288, 'как'),\n",
       "  ['как',\n",
       "   'какие',\n",
       "   'какой',\n",
       "   'какая',\n",
       "   'каком',\n",
       "   'каким',\n",
       "   'какую',\n",
       "   'какое',\n",
       "   'каких',\n",
       "   'какою',\n",
       "   'какому',\n",
       "   'каков',\n",
       "   'какими',\n",
       "   'какого',\n",
       "   'кака',\n",
       "   'каки']),\n",
       " ((1196, '?'), ['?']),\n",
       " ((1190, 'я'), ['я']),\n",
       " ((1037, 'к'), ['к']),\n",
       " ((990, 'а'), ['а', 'ай']),\n",
       " ((964, 'по'), ['по', 'поила', 'поили']),\n",
       " ((796, 'из'), ['из', 'изо']),\n",
       " ((761, 'все'), ['всей', 'все', 'всею', 'всё']),\n",
       " ((729, 'у'), ['у', 'уа']),\n",
       " ((723, 'но'), ['но'])]"
      ]
     },
     "execution_count": 7,
     "metadata": {},
     "output_type": "execute_result"
    }
   ],
   "source": [
    "stem_list[:20]"
   ]
  },
  {
   "cell_type": "markdown",
   "metadata": {
    "id": "Q0C3p-APqSxk"
   },
   "source": [
    "Слова, которые ошибочно свелись к одной основе:\n",
    "\n",
    "((2933, 'не'), ['не', 'ней', 'нее', 'нею'])  \n",
    "((1577, 'он'), ['они', 'он', 'оно', 'она', 'оной'])  \n",
    "((1288, 'как'), ['как', 'какие', 'какой', 'какая', 'каком', 'каким', 'какую', 'какое', 'каких', 'какою', 'какому', 'каков', 'какими', 'какого', 'кака', 'каки'])  \n",
    "((990, 'а'), ['а', 'ай'])  \n",
    "((964, 'по'), ['по', 'поила', 'поили'])  \n",
    "((761, 'все'), ['всей', 'все', 'всею', 'всё'])  \n",
    "((729, 'у'), ['у', 'уа'])"
   ]
  },
  {
   "cell_type": "code",
   "execution_count": 8,
   "metadata": {
    "id": "K3OIsbd-FpVF"
   },
   "outputs": [],
   "source": [
    "#Слова, которые не изменились после стемминга:\n",
    "\n",
    "stems = {}\n",
    "for word in words:\n",
    "    stems[stem_counter[word],word] = stemmer.stem(word)\n",
    "\n",
    "unchanged_dict = {}\n",
    "for key, value in stems.items():\n",
    "    if key[1] == value and len(key[1])>4:\n",
    "        unchanged_dict[key] = value\n",
    "\n",
    "unchanged_list = sorted(unchanged_dict.items(), reverse = True)"
   ]
  },
  {
   "cell_type": "code",
   "execution_count": 9,
   "metadata": {
    "colab": {
     "base_uri": "https://localhost:8080/"
    },
    "id": "Ri3ok2dHxr9v",
    "outputId": "8c91e5d2-23d8-4331-b486-7f999c0c7db8"
   },
   "outputs": [
    {
     "data": {
      "text/plain": [
       "[((289, 'андреевич'), 'андреевич'),\n",
       " ((226, 'доктор'), 'доктор'),\n",
       " ((172, 'перед'), 'перед'),\n",
       " ((162, 'может'), 'может'),\n",
       " ((144, 'через'), 'через'),\n",
       " ((141, 'будет'), 'будет'),\n",
       " ((127, 'сейчас'), 'сейчас'),\n",
       " ((112, 'человек'), 'человек'),\n",
       " ((109, 'вдруг'), 'вдруг'),\n",
       " ((65, 'поезд'), 'поезд')]"
      ]
     },
     "execution_count": 9,
     "metadata": {},
     "output_type": "execute_result"
    }
   ],
   "source": [
    "unchanged_list[:10]"
   ]
  },
  {
   "cell_type": "markdown",
   "metadata": {
    "id": "PmRFJSRVyA05"
   },
   "source": [
    "Слова, которые не изменились после стемминга:\n",
    "\n",
    "((289, 'андреевич'), 'андреевич')  \n",
    "((226, 'доктор'), 'доктор')  \n",
    "((172, 'перед'), 'перед')  \n",
    "((162, 'может'), 'может')  \n",
    "((144, 'через'), 'через')  \n",
    "((141, 'будет'), 'будет')  \n",
    "((127, 'сейчас'), 'сейчас')  \n",
    "((112, 'человек'), 'человек')  \n",
    "((109, 'вдруг'), 'вдруг')  \n",
    "((65, 'поезд'), 'поезд')  "
   ]
  },
  {
   "cell_type": "markdown",
   "metadata": {
    "id": "7L4iskiOIxRk"
   },
   "source": [
    "### Задание 4 (1 балл)\n",
    "Проанализируйте список стоп-слов из нлтк (для русского). Какие ещё слова вы бы туда добавили? (5 слов будет достаточно, не забудьте аргументировать ваш выбор)\n"
   ]
  },
  {
   "cell_type": "code",
   "execution_count": 10,
   "metadata": {
    "colab": {
     "base_uri": "https://localhost:8080/"
    },
    "id": "lBcaUuOJmuVR",
    "outputId": "9af4ca71-b559-4c0c-a5a9-b430887ac093"
   },
   "outputs": [
    {
     "name": "stdout",
     "output_type": "stream",
     "text": [
      "Requirement already satisfied: nltk in /opt/anaconda3/lib/python3.8/site-packages (3.5)\n",
      "Requirement already satisfied: tqdm in /opt/anaconda3/lib/python3.8/site-packages (from nltk) (4.47.0)\n",
      "Requirement already satisfied: regex in /opt/anaconda3/lib/python3.8/site-packages (from nltk) (2020.6.8)\n",
      "Requirement already satisfied: joblib in /opt/anaconda3/lib/python3.8/site-packages (from nltk) (0.16.0)\n",
      "Requirement already satisfied: click in /opt/anaconda3/lib/python3.8/site-packages (from nltk) (7.1.2)\n",
      "это\n",
      "который\n",
      "свой\n",
      "весь\n",
      "год\n",
      "мочь\n",
      "человек\n",
      "сказать\n",
      "время\n",
      "говорить\n",
      "наш\n",
      "знать\n",
      "стать\n",
      "дело\n",
      "жизнь\n",
      "первый\n",
      "очень\n",
      "день\n",
      "новый\n",
      "рука\n",
      "работа\n",
      "самый\n",
      "хотеть\n",
      "слово\n",
      "идти\n",
      "большой\n",
      "должен\n",
      "место\n",
      "иметь\n",
      "ничто\n"
     ]
    },
    {
     "name": "stderr",
     "output_type": "stream",
     "text": [
      "[nltk_data] Downloading package stopwords to\n",
      "[nltk_data]     /Users/datanikitin/nltk_data...\n",
      "[nltk_data]   Package stopwords is already up-to-date!\n"
     ]
    }
   ],
   "source": [
    "!pip install nltk\n",
    "import nltk\n",
    "from nltk.corpus import stopwords\n",
    "nltk.download('stopwords')\n",
    "\n",
    "stops = stopwords.words('russian')\n",
    "\n",
    "ruscorpora = ['и', 'в', 'не', 'на', 'я', 'быть', 'он', 'с', 'что', 'а', 'по', 'это', 'она', 'этот', 'к', 'но', 'они', 'мы', 'как', 'из', 'у', 'который', 'то', 'за', 'свой', 'что', 'весь', 'год', 'от', 'так', 'о', 'для', 'ты', 'же', 'все', 'тот', 'мочь', 'вы', 'человек', 'такой', 'его', 'сказать', 'только', 'или', 'ещё', 'бы', 'себя', 'один', 'как', 'уже', 'до', 'время', 'если', 'сам', 'когда', 'другой', 'вот', 'говорить', 'наш', 'мой', 'знать', 'стать', 'при', 'чтобы', 'дело', 'жизнь', 'кто', 'первый', 'очень', 'два', 'день', 'её', 'новый', 'рука', 'даже', 'во', 'со', 'раз', 'где', 'там', 'под', 'можно', 'ну', 'какой', 'после', 'их', 'работа', 'без', 'самый', 'потом', 'надо', 'хотеть', 'ли', 'слово', 'идти', 'большой', 'должен', 'место', 'иметь', 'ничто']\n",
    "\n",
    "for word in ruscorpora:\n",
    "    if word.replace('ё', 'е') not in stops:\n",
    "        print(word)\n"
   ]
  },
  {
   "cell_type": "markdown",
   "metadata": {
    "id": "UHxQMkP9U59i"
   },
   "source": [
    "Ответ: все слова, не передающие большого смысла, из списка 1000 самых встречаемых согласно НКРЯ, которые еще не вошли в NLTK stopwords - это, который, свой, весь, наш, очень."
   ]
  },
  {
   "cell_type": "markdown",
   "metadata": {
    "id": "eczDO-XPI0AV"
   },
   "source": [
    "### Задание 5 (3 балла)\n",
    "\n",
    "Предобработайте текст двумя способами:\n",
    "1) лемматизируйте токены с помощью pymorphy2\n",
    "2) лемматизируйте текст с помощью mystem3 \n",
    "\n",
    "Ответьте на вопрос:\n",
    "Что в данном случае лучше для лемматизации mystem или pymorphy?\n",
    "\n",
    "Важно, чтобы ответы на вопросы были аргументированы (как минимум три аргумента).  Анализируйте результаты с языковой точки зрения. Скорость работы простота интерфейса не являются преимуществами или недостатками в рамках этого задания. Идеальный аргумент - библиотека x неправильно обрабатывает вот такое слово/класс слов. "
   ]
  },
  {
   "cell_type": "code",
   "execution_count": 11,
   "metadata": {
    "colab": {
     "base_uri": "https://localhost:8080/",
     "height": 545
    },
    "id": "PIqxOXNANRGP",
    "outputId": "d290ef8d-9127-4ee8-9b11-edb98b026ef6"
   },
   "outputs": [
    {
     "name": "stdout",
     "output_type": "stream",
     "text": [
      "Requirement already satisfied: pymorphy2 in /opt/anaconda3/lib/python3.8/site-packages (0.9.1)\n",
      "Requirement already satisfied: docopt>=0.6 in /opt/anaconda3/lib/python3.8/site-packages (from pymorphy2) (0.6.2)\n",
      "Requirement already satisfied: dawg-python>=0.7.1 in /opt/anaconda3/lib/python3.8/site-packages (from pymorphy2) (0.7.2)\n",
      "Requirement already satisfied: pymorphy2-dicts-ru<3.0,>=2.4 in /opt/anaconda3/lib/python3.8/site-packages (from pymorphy2) (2.4.417127.4579844)\n",
      "Requirement already satisfied: pymystem3 in /opt/anaconda3/lib/python3.8/site-packages (0.2.0)\n",
      "Requirement already satisfied: requests in /opt/anaconda3/lib/python3.8/site-packages (from pymystem3) (2.24.0)\n",
      "Requirement already satisfied: chardet<4,>=3.0.2 in /opt/anaconda3/lib/python3.8/site-packages (from requests->pymystem3) (3.0.4)\n",
      "Requirement already satisfied: certifi>=2017.4.17 in /opt/anaconda3/lib/python3.8/site-packages (from requests->pymystem3) (2020.6.20)\n",
      "Requirement already satisfied: idna<3,>=2.5 in /opt/anaconda3/lib/python3.8/site-packages (from requests->pymystem3) (2.10)\n",
      "Requirement already satisfied: urllib3!=1.25.0,!=1.25.1,<1.26,>=1.21.1 in /opt/anaconda3/lib/python3.8/site-packages (from requests->pymystem3) (1.25.9)\n",
      "13 его он его\n",
      "17 принес принести приносить\n",
      "27 обернулось обернуться обертываться\n",
      "49 убедительнее убедительный убедительно\n",
      "54 все всё весь\n",
      "66 пережил пережить переживать\n",
      "68 передумал передумать передумывать\n",
      "71 его он его\n",
      "75 восхищенное восхитить восхищенный\n",
      "78 слезное слёзный слезный\n",
      "81 есть есть быть\n",
      "83 его он его\n",
      "95 суть быть суть\n",
      "102 их они их\n",
      "114 всего весь все\n",
      "119 стоит стоить стоять\n",
      "132 этого это этот\n"
     ]
    }
   ],
   "source": [
    "import pandas as pd\n",
    "!pip install pymorphy2\n",
    "!pip install pymystem3\n",
    "\n",
    "import pymorphy2\n",
    "from pymystem3 import Mystem\n",
    "\n",
    "mystem = Mystem()\n",
    "morph =  pymorphy2.MorphAnalyzer()\n",
    "\n",
    "#не обрабатывал весь текст, чтобы не ждать mystem вечность\n",
    "lemmas_pymorphy = [morph.parse(token)[0].normal_form for token in tokens[:200]]\n",
    "lemmas_mystem = mystem.lemmatize(text[:2000])\n",
    "\n",
    "lemmas_mystem_clean = []\n",
    "for i in lemmas_mystem:\n",
    "  if re.findall(r'\\w+', i) != []:\n",
    "    lemmas_mystem_clean.append(i)\n",
    "\n",
    "for i in range(150):\n",
    "  if lemmas_pymorphy[i] != lemmas_mystem_clean[i]:\n",
    "    print(i, tokens[i], lemmas_pymorphy[i], lemmas_mystem_clean[i])"
   ]
  },
  {
   "cell_type": "markdown",
   "metadata": {},
   "source": [
    "На этом датасете у меня показал себя лучше pymorphy.\n",
    "\n",
    "Аргумент 1: mystem теряет информацию о букве ё (слезное слёзный слезный). Для некоторых слов это может быть критично.  \n",
    "Аргумент 2: mystem не использует контекст, поэтому не может образовать правильно форму от \"стоит\" (стоит стоить стоять)  \n",
    "Аргумент 3: mystem теряет информацию о виде глагола в отличие от pymorphy (передумал передумать передумывать)"
   ]
  }
 ],
 "metadata": {
  "colab": {
   "collapsed_sections": [],
   "name": "Ilya's CL HW 1.ipynb",
   "provenance": []
  },
  "kernelspec": {
   "display_name": "Python 3",
   "language": "python",
   "name": "python3"
  },
  "language_info": {
   "codemirror_mode": {
    "name": "ipython",
    "version": 3
   },
   "file_extension": ".py",
   "mimetype": "text/x-python",
   "name": "python",
   "nbconvert_exporter": "python",
   "pygments_lexer": "ipython3",
   "version": "3.8.3"
  }
 },
 "nbformat": 4,
 "nbformat_minor": 1
}

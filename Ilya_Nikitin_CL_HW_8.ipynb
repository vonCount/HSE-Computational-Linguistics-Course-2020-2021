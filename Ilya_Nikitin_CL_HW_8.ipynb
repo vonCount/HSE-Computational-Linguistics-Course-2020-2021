{
 "cells": [
  {
   "cell_type": "markdown",
   "metadata": {},
   "source": [
    "# Задание\n",
    "\n",
    "Реализовать алгоритм Леска и протестировать его на реальном датасете"
   ]
  },
  {
   "cell_type": "code",
   "execution_count": 1,
   "metadata": {},
   "outputs": [],
   "source": [
    "%%capture\n",
    "\n",
    "import nltk\n",
    "nltk.download('wordnet')\n",
    "from nltk.corpus import wordnet as wn"
   ]
  },
  {
   "cell_type": "code",
   "execution_count": 2,
   "metadata": {},
   "outputs": [],
   "source": [
    "from collections import Counter\n",
    "def count_overlap(sentence_a, sentence_b):\n",
    "    result = sum((Counter(sentence_a) & Counter(sentence_b)).values())\n",
    "    return result"
   ]
  },
  {
   "cell_type": "code",
   "execution_count": 3,
   "metadata": {},
   "outputs": [],
   "source": [
    "def lesk(word, sentence):\n",
    "    bestsense = 0\n",
    "    maxoverlap = 0\n",
    "    synsets = wn.synsets(word)\n",
    "\n",
    "    for i, syns in enumerate(synsets):\n",
    "        definition = syns.definition()\n",
    "        definition = definition.lower().split()\n",
    "        overlap = count_overlap(definition, sentence)\n",
    "        \n",
    "        if overlap > maxoverlap:\n",
    "            maxoverlap = overlap\n",
    "            bestsense = i\n",
    "             \n",
    "    return bestsense"
   ]
  },
  {
   "cell_type": "markdown",
   "metadata": {},
   "source": [
    "Проверьте насколько хорошо работает такой метод на реальном датасете. http://lcl.uniroma1.it/wsdeval/ - большой фреймворк для оценки WSD. Там много данных и я взял кусочек, чтобы не было проблем с памятью"
   ]
  },
  {
   "cell_type": "code",
   "execution_count": 4,
   "metadata": {},
   "outputs": [],
   "source": [
    "corpus_wsd = []\n",
    "corpus = open('corpus_wsd_50k.txt').read().split('\\n\\n')\n",
    "for sent in corpus:\n",
    "    corpus_wsd.append([s.split('\\t') for s in sent.split('\\n')])"
   ]
  },
  {
   "cell_type": "markdown",
   "metadata": {},
   "source": [
    "#### Вам нужно для каждого многозначного слова (т.е. у него есть тэг в первом поле) с помощью алгоритма Леска предсказать нужный синсет и сравнить с правильным. Посчитайте процент правильных предсказаний (accuracy).\n",
    "\n",
    "Если считается слишком долго, возьмите поменьше предложений (например, только тысячу)\n"
   ]
  },
  {
   "cell_type": "code",
   "execution_count": 5,
   "metadata": {},
   "outputs": [
    {
     "name": "stdout",
     "output_type": "stream",
     "text": [
      "Accuracy: 0.3628944504896627\n"
     ]
    }
   ],
   "source": [
    "true = 0\n",
    "total = 0\n",
    "\n",
    "for sent in corpus_wsd[:3000]:\n",
    "    for sense, lemma, word in sent:\n",
    "        if sense:\n",
    "            total += 1\n",
    "            context = \" \".join([s[2] for s in sent])\n",
    "            ind = lesk(lemma, context)\n",
    "            try:\n",
    "                if wn.synsets(lemma)[ind] == wn.lemma_from_key(sense).synset():\n",
    "                    true += 1\n",
    "            except:\n",
    "                pass\n",
    "\n",
    "print('Accuracy:', (true/total))"
   ]
  }
 ],
 "metadata": {
  "kernelspec": {
   "display_name": "Python 3",
   "language": "python",
   "name": "python3"
  },
  "language_info": {
   "codemirror_mode": {
    "name": "ipython",
    "version": 3
   },
   "file_extension": ".py",
   "mimetype": "text/x-python",
   "name": "python",
   "nbconvert_exporter": "python",
   "pygments_lexer": "ipython3",
   "version": "3.8.3"
  }
 },
 "nbformat": 4,
 "nbformat_minor": 5
}
